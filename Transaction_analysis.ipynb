{
 "cells": [
  {
   "cell_type": "markdown",
   "metadata": {},
   "source": [
    "## Transaction Analysis"
   ]
  },
  {
   "cell_type": "code",
   "execution_count": 20,
   "metadata": {},
   "outputs": [],
   "source": [
    "import pandas as pd\n",
    "import numpy as np\n",
    "import seaborn as sns\n",
    "import matplotlib.pyplot as plt\n",
    "import sqlite3"
   ]
  },
  {
   "cell_type": "markdown",
   "metadata": {},
   "source": [
    "Read data from csv files into a pandas dataframe"
   ]
  },
  {
   "cell_type": "code",
   "execution_count": 21,
   "metadata": {},
   "outputs": [],
   "source": [
    "comp_tran = pd.read_csv('C:/Users/Damie/OneDrive/Desktop/python_files/Trans_analysis/grad_competency_transactions.csv')\n",
    "route = pd.read_csv('C:/Users/Damie/OneDrive/Desktop/python_files/Trans_analysis/grad_competency_user_startdate_route.csv')\n",
    "product_lib = pd.read_csv('C:/Users/Damie/OneDrive/Desktop/python_files/Trans_analysis/grad_competency_product_library.csv')"
   ]
  },
  {
   "cell_type": "markdown",
   "metadata": {},
   "source": [
    "Merge dataframes to create one dataframe "
   ]
  },
  {
   "cell_type": "code",
   "execution_count": 26,
   "metadata": {},
   "outputs": [],
   "source": [
    "all_dfs = route.merge(comp_tran, how='outer', left_on='user_id', right_on='history_user_id')\n",
    "all_dfs = all_dfs.merge(product_lib, how='outer', left_on='history_product_id', right_on='id')"
   ]
  },
  {
   "cell_type": "markdown",
   "metadata": {},
   "source": [
    "Lets take a look at the kind of data we have been provided with. "
   ]
  },
  {
   "cell_type": "code",
   "execution_count": 40,
   "metadata": {},
   "outputs": [
    {
     "name": "stdout",
     "output_type": "stream",
     "text": [
      "Index(['user_id', 'min(us.`startdate`)', 'route_id', 'history_id',\n",
      "       'history_user_id', 'history_date', 'history_product_id',\n",
      "       'history_quantity', 'history_price', 'history_transaction_id',\n",
      "       'history_transaction', 'id', 'category_id', 'name', 'start_dates_year',\n",
      "       'start_dates_month', 'hist_year', 'hist_month'],\n",
      "      dtype='object')\n"
     ]
    }
   ],
   "source": [
    "print (all_dfs.columns)"
   ]
  },
  {
   "cell_type": "markdown",
   "metadata": {},
   "source": [
    "We have merged the dataframes above by joining the transaction data and the new user data at the columns history_user_id and user_id respectively, but we will keep both columns for clarity."
   ]
  },
  {
   "cell_type": "code",
   "execution_count": 41,
   "metadata": {},
   "outputs": [
    {
     "name": "stdout",
     "output_type": "stream",
     "text": [
      "user_id                   float64\n",
      "min(us.`startdate`)        object\n",
      "route_id                  float64\n",
      "history_id                float64\n",
      "history_user_id           float64\n",
      "history_date               object\n",
      "history_product_id        float64\n",
      "history_quantity          float64\n",
      "history_price             float64\n",
      "history_transaction_id    float64\n",
      "history_transaction        object\n",
      "id                        float64\n",
      "category_id               float64\n",
      "name                       object\n",
      "start_dates_year           object\n",
      "start_dates_month          object\n",
      "hist_year                  object\n",
      "hist_month                 object\n",
      "dtype: object\n"
     ]
    }
   ],
   "source": [
    "print (all_dfs.dtypes)"
   ]
  },
  {
   "cell_type": "markdown",
   "metadata": {},
   "source": [
    "By looking at the data types we can see we have a mix of categorical and numeric data types."
   ]
  },
  {
   "cell_type": "markdown",
   "metadata": {},
   "source": [
    "Now we need to create a connection object and query object for sqlite3 queries on the database."
   ]
  },
  {
   "cell_type": "code",
   "execution_count": 27,
   "metadata": {},
   "outputs": [],
   "source": [
    "e = pd.read_sql_query\n",
    "conn = sqlite3.connect('C:/Users/Damie/OneDrive/Desktop/python_files/Trans_analysis/Trans_analysis.db')\n",
    "all_dfs.to_sql('trans', conn, if_exists='replace', index=False)"
   ]
  },
  {
   "cell_type": "markdown",
   "metadata": {},
   "source": [
    "Some data interrogation first to provide some context. Let's look at the time frame for the user_startdate database."
   ]
  },
  {
   "cell_type": "code",
   "execution_count": 38,
   "metadata": {},
   "outputs": [
    {
     "name": "stdout",
     "output_type": "stream",
     "text": [
      "       user_id min(us.`startdate`)  route_id\n",
      "6048      9786          0000-00-00      40.0\n",
      "8890     13879          0000-00-00       7.0\n",
      "19848    32072          0000-00-00      39.0\n",
      "0           22          2018-12-17       6.0\n",
      "1           29          2018-12-31       4.0\n",
      "3           32          2018-12-31       6.0\n",
      "6           41          2019-01-11       7.0\n",
      "8           44          2019-01-12       7.0\n",
      "12          49          2019-01-13       3.0\n",
      "9           46          2019-01-14       7.0\n",
      "       user_id min(us.`startdate`)  route_id\n",
      "21923    36524          2020-04-25      15.0\n",
      "22501    37958          2020-04-26      12.0\n",
      "22637    38296          2020-04-27      49.0\n",
      "23181    39759          2020-04-27      47.0\n",
      "22590    38193          2020-04-27      43.0\n",
      "23079    39453          2020-04-28      44.0\n",
      "22668    38375          2020-04-29      36.0\n",
      "20714    33922          2020-05-05      60.0\n",
      "11974    18243          2020-05-20      35.0\n",
      "15121    23090          2020-06-01      71.0\n"
     ]
    }
   ],
   "source": [
    "### Dates of the new startdate data\n",
    "print (route.sort_values(by='min(us.`startdate`)').head(n=10))\n",
    "print (route.sort_values(by='min(us.`startdate`)').tail(n=10))"
   ]
  },
  {
   "cell_type": "markdown",
   "metadata": {},
   "source": [
    "The first user to sign up and first product delivery date is 17/12/2018 and the last user to sign up has a delivery date of 01/06/2020. So a sign up and delivery with some advance in the latter case."
   ]
  },
  {
   "cell_type": "markdown",
   "metadata": {},
   "source": [
    "Now we will provide a timeframe for the transaction data."
   ]
  },
  {
   "cell_type": "code",
   "execution_count": 39,
   "metadata": {},
   "outputs": [
    {
     "name": "stdout",
     "output_type": "stream",
     "text": [
      "<bound method Series.sort_values of 0         2020-01-15\n",
      "1         2020-01-15\n",
      "2         2020-01-15\n",
      "3         2020-01-15\n",
      "4         2020-01-15\n",
      "             ...    \n",
      "589578    2020-04-14\n",
      "589579    2020-04-14\n",
      "589580    2020-04-14\n",
      "589581    2020-04-14\n",
      "589582    2020-04-14\n",
      "Name: history_date, Length: 589583, dtype: object>\n"
     ]
    }
   ],
   "source": [
    "### Dates of the comp_tran data\n",
    "print (comp_tran['history_date'].sort_values)"
   ]
  },
  {
   "cell_type": "markdown",
   "metadata": {},
   "source": [
    "The earliest entry in this database is given as 15/01/2020 and the latest entry is 14/04/2020."
   ]
  },
  {
   "cell_type": "markdown",
   "metadata": {},
   "source": [
    "Perform string operation and create new columns for year and month. Then query the database to find the number of new customers per month per year.\n"
   ]
  },
  {
   "cell_type": "code",
   "execution_count": 28,
   "metadata": {},
   "outputs": [
    {
     "name": "stdout",
     "output_type": "stream",
     "text": [
      "Index(['user_id', 'min(us.`startdate`)', 'route_id', 'history_id',\n",
      "       'history_user_id', 'history_date', 'history_product_id',\n",
      "       'history_quantity', 'history_price', 'history_transaction_id',\n",
      "       'history_transaction', 'id', 'category_id', 'name', 'start_dates_year',\n",
      "       'start_dates_month'],\n",
      "      dtype='object')\n"
     ]
    }
   ],
   "source": [
    "all_dfs['start_dates_year'] = all_dfs['min(us.`startdate`)'].str[:-6]\n",
    "all_dfs['start_dates_month'] = all_dfs['min(us.`startdate`)'].str[5:-3]\n",
    "\n",
    "all_dfs.to_sql('trans', conn, if_exists='replace', index=False)\n",
    "\n",
    "print (all_dfs.columns)\n",
    "\n",
    "new_cust = e('''\n",
    "             \n",
    "                 SELECT COUNT(DISTINCT user_id) AS total, start_dates_year AS Year, start_dates_month\n",
    "                 FROM trans\n",
    "                 WHERE start_dates_year NOT LIKE '0000'\n",
    "                 GROUP BY start_dates_month, start_dates_year\n",
    "                 \n",
    "                 ''', conn)"
   ]
  },
  {
   "cell_type": "code",
   "execution_count": 30,
   "metadata": {},
   "outputs": [
    {
     "data": {
      "text/plain": [
       "Text(24.843717447916667, 0.5, 'Number of Customers')"
      ]
     },
     "execution_count": 30,
     "metadata": {},
     "output_type": "execute_result"
    },
    {
     "data": {
      "image/png": "[encoded data removed]",
      "text/plain": [
       "<Figure size 925.375x432 with 1 Axes>"
      ]
     },
     "metadata": {
      "needs_background": "light"
     },
     "output_type": "display_data"
    }
   ],
   "source": [
    "chart = sns.catplot(x='start_dates_month', y='total', hue='Year', kind='bar',data=new_cust, height=6, aspect=2)\n",
    "plt.title('Number of New Customers per Month For Each Year of Data')\n",
    "plt.xlabel('Months')\n",
    "plt.ylabel('Number of Customers')"
   ]
  },
  {
   "cell_type": "markdown",
   "metadata": {},
   "source": [
    "The company was founded in 2018 so we can expect few subscriptions before the company builds it's reputation. Throughout 2019 we see a steady increase in new customers month by month. Of particular interest is the surge of new customers in March of 2020, likely due to the lockdown effect and people tending towards home deliveries."
   ]
  },
  {
   "cell_type": "markdown",
   "metadata": {},
   "source": [
    "Let's investigate the retention rate of customers by looking at all customers at the the time of their start date and the percentage of which currently have or have had an order between Jan and April 2020."
   ]
  },
  {
   "cell_type": "code",
   "execution_count": 34,
   "metadata": {},
   "outputs": [],
   "source": [
    "all_dfs['hist_year'] = all_dfs['history_date'].str[:-6]\n",
    "all_dfs['hist_month'] = all_dfs['history_date'].str[5:-3]\n",
    "\n",
    "all_dfs.to_sql('trans', conn, if_exists='replace', index=False)\n",
    "\n",
    "repeat_cust = e('''\n",
    "                \n",
    "                    SELECT COUNT(DISTINCT user_id) as CR, history_transaction_id, start_dates_year, start_dates_month\n",
    "                    FROM trans\n",
    "                    WHERE history_transaction_id IS NULL \n",
    "                    AND start_dates_year NOT IN ('2020', '0000')\n",
    "                    GROUP BY start_dates_year, start_dates_month\n",
    "                   \n",
    "                    ''',conn)\n",
    "\n",
    "#cust_rent = \n",
    "\n",
    "\n",
    "total_new_cust = e('''\n",
    "             \n",
    "                 SELECT COUNT(DISTINCT user_id) AS total, start_dates_year AS Year, start_dates_month\n",
    "                 FROM trans\n",
    "                 WHERE start_dates_year NOT IN ('0000', '2020')\n",
    "                 GROUP BY start_dates_year, start_dates_month\n",
    "                 \n",
    "                 ''', conn)\n",
    "                 \n",
    "repeat_cust['percent'] = (repeat_cust['CR'] / total_new_cust['total'])*100\n",
    "repeat_cust['percent'] = 100 - repeat_cust['percent']"
   ]
  },
  {
   "cell_type": "code",
   "execution_count": 35,
   "metadata": {},
   "outputs": [
    {
     "data": {
      "text/plain": [
       "Text(25.491876446759264, 0.5, 'Customer Still Using Service [%]')"
      ]
     },
     "execution_count": 35,
     "metadata": {},
     "output_type": "execute_result"
    },
    {
     "data": {
      "image/png": "[encoded data removed]",
      "text/plain": [
       "<Figure size 955.25x432 with 1 Axes>"
      ]
     },
     "metadata": {
      "needs_background": "light"
     },
     "output_type": "display_data"
    }
   ],
   "source": [
    "### Plot of customers who signed up before 2020 who are using the service between Jan and April of 2020\n",
    "chart = sns.catplot(x='start_dates_month', y='percent', hue='start_dates_year', kind = 'bar', data=repeat_cust,  palette=\"Blues\",\n",
    "                   height=6, aspect=2)\n",
    "plt.title('Customers who signed up before 2020 who are still using the service between Jan and April of 2020')\n",
    "plt.xlabel('Month')\n",
    "plt.ylabel('Customer Still Using Service [%]')"
   ]
  },
  {
   "cell_type": "markdown",
   "metadata": {},
   "source": [
    "We find that the three customers who signed up in December 2018 don't currently have an order placed between Jan and April of 2020. Overall there is general increasing trend in the number of customers who signed up in 2019 and are still using the service inbetween Jan and April of 2020. Compared with the figure above, not only do we see an increasing number of new customers it is also concurrent with an increasing retention rate."
   ]
  },
  {
   "cell_type": "code",
   "execution_count": 45,
   "metadata": {},
   "outputs": [
    {
     "name": "stdout",
     "output_type": "stream",
     "text": [
      "   COUNT (DISTINCT history_user_id)\n",
      "0                             19020\n",
      "948578.0\n",
      "Average number of items per customer    COUNT (DISTINCT history_user_id)\n",
      "0                          49.87266\n"
     ]
    }
   ],
   "source": [
    "cust_order = e('''\n",
    "               \n",
    "                   SELECT COUNT (DISTINCT history_user_id)\n",
    "                   FROM trans\n",
    "\n",
    "                   \n",
    "                   \n",
    "                   ''', conn)\n",
    "print (cust_order)      \n",
    "print ((all_dfs['history_quantity'].sum()))      \n",
    "print ('Average number of items per customer', (all_dfs['history_quantity'].sum() / cust_order)  )    "
   ]
  },
  {
   "cell_type": "markdown",
   "metadata": {},
   "source": [
    "Above, we see the number of unique customers in the transaction data and the sum of all the items sold, thus giving an average of items per customer. Although further analysis is not given here due to time constraints, we would find a smaller number of customers ordering more regularly than others."
   ]
  },
  {
   "cell_type": "markdown",
   "metadata": {},
   "source": [
    "Next we query the database to find the frequency of each product per route."
   ]
  },
  {
   "cell_type": "code",
   "execution_count": 37,
   "metadata": {},
   "outputs": [],
   "source": [
    "product_route = e('''\n",
    "                  \n",
    "                      SELECT route_id, SUM(history_quantity) AS total, name\n",
    "                      FROM trans\n",
    "                      WHERE route_id IS NOT NULL\n",
    "                      AND name IS NOT NULL\n",
    "                      AND history_quantity IS NOT NULL\n",
    "                      GROUP BY route_id, history_product_id\n",
    "                      ORDER BY 'total'                       \n",
    "                                             \n",
    "                    ''', conn)\n",
    "\n",
    "\n",
    "product_route = product_route.pivot('route_id','name','total')\n",
    "product_route = product_route.fillna(0)\n",
    "product_route.sort_index(level=0, ascending=True, inplace=True)"
   ]
  },
  {
   "cell_type": "markdown",
   "metadata": {},
   "source": [
    "We will use tableau to create the next figure as we anticipate interactivity of a dashboard will help provide a far more powerful analysis than a static graph for the next task. We will export the dataframe to excel and connect Tableau to the excel file."
   ]
  },
  {
   "cell_type": "code",
   "execution_count": 42,
   "metadata": {},
   "outputs": [],
   "source": [
    "product_route.to_excel('heat_map.xlsx', index=True)"
   ]
  },
  {
   "cell_type": "code",
   "execution_count": 36,
   "metadata": {},
   "outputs": [
    {
     "data": {
      "text/html": [
       "<div class='tableauPlaceholder' id='viz1587128990494' style='position: relative'><noscript><a href='#'><img alt=' ' src='https:&#47;&#47;public.tableau.com&#47;static&#47;images&#47;Pr&#47;Product_route&#47;Dashboard1&#47;1_rss.png' style='border: none' /></a></noscript><object class='tableauViz'  style='display:none;'><param name='host_url' value='https%3A%2F%2Fpublic.tableau.com%2F' /> <param name='embed_code_version' value='3' /> <param name='site_root' value='' /><param name='name' value='Product_route&#47;Dashboard1' /><param name='tabs' value='no' /><param name='toolbar' value='yes' /><param name='static_image' value='https:&#47;&#47;public.tableau.com&#47;static&#47;images&#47;Pr&#47;Product_route&#47;Dashboard1&#47;1.png' /> <param name='animate_transition' value='yes' /><param name='display_static_image' value='yes' /><param name='display_spinner' value='yes' /><param name='display_overlay' value='yes' /><param name='display_count' value='yes' /><param name='filter' value='publish=yes' /></object></div>                <script type='text/javascript'>                    var divElement = document.getElementById('viz1587128990494');                    var vizElement = divElement.getElementsByTagName('object')[0];                    if ( divElement.offsetWidth > 800 ) { vizElement.style.width='100%';vizElement.style.maxWidth='2000px';vizElement.style.height=(divElement.offsetWidth*0.75)+'px';vizElement.style.maxHeight='1127px';} else if ( divElement.offsetWidth > 500 ) { vizElement.style.width='100%';vizElement.style.maxWidth='2000px';vizElement.style.height=(divElement.offsetWidth*0.75)+'px';vizElement.style.maxHeight='1127px';} else { vizElement.style.width='100%';vizElement.style.height='727px';}                     var scriptElement = document.createElement('script');                    scriptElement.src = 'https://public.tableau.com/javascripts/api/viz_v1.js';                    vizElement.parentNode.insertBefore(scriptElement, vizElement);                </script>\n"
      ],
      "text/plain": [
       "<IPython.core.display.HTML object>"
      ]
     },
     "metadata": {},
     "output_type": "display_data"
    }
   ],
   "source": [
    "%%HTML\n",
    "<div class='tableauPlaceholder' id='viz1587128990494' style='position: relative'><noscript><a href='#'><img alt=' ' src='https:&#47;&#47;public.tableau.com&#47;static&#47;images&#47;Pr&#47;Product_route&#47;Dashboard1&#47;1_rss.png' style='border: none' /></a></noscript><object class='tableauViz'  style='display:none;'><param name='host_url' value='https%3A%2F%2Fpublic.tableau.com%2F' /> <param name='embed_code_version' value='3' /> <param name='site_root' value='' /><param name='name' value='Product_route&#47;Dashboard1' /><param name='tabs' value='no' /><param name='toolbar' value='yes' /><param name='static_image' value='https:&#47;&#47;public.tableau.com&#47;static&#47;images&#47;Pr&#47;Product_route&#47;Dashboard1&#47;1.png' /> <param name='animate_transition' value='yes' /><param name='display_static_image' value='yes' /><param name='display_spinner' value='yes' /><param name='display_overlay' value='yes' /><param name='display_count' value='yes' /><param name='filter' value='publish=yes' /></object></div>                <script type='text/javascript'>                    var divElement = document.getElementById('viz1587128990494');                    var vizElement = divElement.getElementsByTagName('object')[0];                    if ( divElement.offsetWidth > 800 ) { vizElement.style.width='100%';vizElement.style.maxWidth='2000px';vizElement.style.height=(divElement.offsetWidth*0.75)+'px';vizElement.style.maxHeight='1127px';} else if ( divElement.offsetWidth > 500 ) { vizElement.style.width='100%';vizElement.style.maxWidth='2000px';vizElement.style.height=(divElement.offsetWidth*0.75)+'px';vizElement.style.maxHeight='1127px';} else { vizElement.style.width='100%';vizElement.style.height='727px';}                     var scriptElement = document.createElement('script');                    scriptElement.src = 'https://public.tableau.com/javascripts/api/viz_v1.js';                    vizElement.parentNode.insertBefore(scriptElement, vizElement);                </script>"
   ]
  },
  {
   "cell_type": "code",
   "execution_count": 46,
   "metadata": {},
   "outputs": [
    {
     "name": "stdout",
     "output_type": "stream",
     "text": [
      "Number of routes 0    81\n",
      "Name: R, dtype: int64 Number of different products sold 0    57\n",
      "Name: P, dtype: int64\n"
     ]
    }
   ],
   "source": [
    "routes_products = e('''\n",
    "                  \n",
    "                      SELECT COUNT(DISTINCT route_id) AS R, COUNT(DISTINCT id) AS P\n",
    "                      FROM trans\n",
    "                                   \n",
    "                             ''', conn)\n",
    "\n",
    "print ('Number of routes', routes_products['R'], 'Number of different products sold', routes_products['P'])"
   ]
  },
  {
   "cell_type": "markdown",
   "metadata": {},
   "source": [
    "Currently, the company sells 57 different products across 81 different routes."
   ]
  }
 ],
 "metadata": {
  "kernelspec": {
   "display_name": "Python 3",
   "language": "python",
   "name": "python3"
  },
  "language_info": {
   "codemirror_mode": {
    "name": "ipython",
    "version": 3
   },
   "file_extension": ".py",
   "mimetype": "text/x-python",
   "name": "python",
   "nbconvert_exporter": "python",
   "pygments_lexer": "ipython3",
   "version": "3.7.4"
  }
 },
 "nbformat": 4,
 "nbformat_minor": 4
}
